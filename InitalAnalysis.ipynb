{
 "cells": [
  {
   "cell_type": "code",
   "execution_count": 1,
   "metadata": {},
   "outputs": [],
   "source": [
    "import pandas as pd\n",
    "from matplotlib import pyplot as plt\n",
    "import numpy as np\n",
    "from geopy.distance import lonlat, distance"
   ]
  },
  {
   "cell_type": "code",
   "execution_count": 2,
   "metadata": {},
   "outputs": [
    {
     "data": {
      "text/html": [
       "<div>\n",
       "<style scoped>\n",
       "    .dataframe tbody tr th:only-of-type {\n",
       "        vertical-align: middle;\n",
       "    }\n",
       "\n",
       "    .dataframe tbody tr th {\n",
       "        vertical-align: top;\n",
       "    }\n",
       "\n",
       "    .dataframe thead th {\n",
       "        text-align: right;\n",
       "    }\n",
       "</style>\n",
       "<table border=\"1\" class=\"dataframe\">\n",
       "  <thead>\n",
       "    <tr style=\"text-align: right;\">\n",
       "      <th></th>\n",
       "      <th>timestamp</th>\n",
       "      <th>latitude</th>\n",
       "      <th>longitude</th>\n",
       "      <th>elevation</th>\n",
       "      <th>heart_rate</th>\n",
       "    </tr>\n",
       "  </thead>\n",
       "  <tbody>\n",
       "    <tr>\n",
       "      <th>0</th>\n",
       "      <td>2020-06-20T08:00:02Z</td>\n",
       "      <td>51.454496</td>\n",
       "      <td>-0.217755</td>\n",
       "      <td>35.2</td>\n",
       "      <td>104</td>\n",
       "    </tr>\n",
       "    <tr>\n",
       "      <th>1</th>\n",
       "      <td>2020-06-20T08:00:03Z</td>\n",
       "      <td>51.454506</td>\n",
       "      <td>-0.217767</td>\n",
       "      <td>35.2</td>\n",
       "      <td>104</td>\n",
       "    </tr>\n",
       "    <tr>\n",
       "      <th>2</th>\n",
       "      <td>2020-06-20T08:00:04Z</td>\n",
       "      <td>51.454520</td>\n",
       "      <td>-0.217782</td>\n",
       "      <td>35.3</td>\n",
       "      <td>103</td>\n",
       "    </tr>\n",
       "    <tr>\n",
       "      <th>3</th>\n",
       "      <td>2020-06-20T08:00:11Z</td>\n",
       "      <td>51.454672</td>\n",
       "      <td>-0.217944</td>\n",
       "      <td>35.8</td>\n",
       "      <td>102</td>\n",
       "    </tr>\n",
       "    <tr>\n",
       "      <th>4</th>\n",
       "      <td>2020-06-20T08:00:14Z</td>\n",
       "      <td>51.454734</td>\n",
       "      <td>-0.218025</td>\n",
       "      <td>36.0</td>\n",
       "      <td>108</td>\n",
       "    </tr>\n",
       "  </tbody>\n",
       "</table>\n",
       "</div>"
      ],
      "text/plain": [
       "              timestamp   latitude  longitude  elevation  heart_rate\n",
       "0  2020-06-20T08:00:02Z  51.454496  -0.217755       35.2         104\n",
       "1  2020-06-20T08:00:03Z  51.454506  -0.217767       35.2         104\n",
       "2  2020-06-20T08:00:04Z  51.454520  -0.217782       35.3         103\n",
       "3  2020-06-20T08:00:11Z  51.454672  -0.217944       35.8         102\n",
       "4  2020-06-20T08:00:14Z  51.454734  -0.218025       36.0         108"
      ]
     },
     "execution_count": 2,
     "metadata": {},
     "output_type": "execute_result"
    }
   ],
   "source": [
    "df = pd.read_csv(\"~/Documents/data/strava/output1.csv\")\n",
    "df.head()"
   ]
  },
  {
   "cell_type": "code",
   "execution_count": 3,
   "metadata": {},
   "outputs": [],
   "source": [
    "def point_distance(lat1: float, lon1: float, lat2: float, lon2: float) -> float:\n",
    "    if np.isnan(lat1) or np.isnan(lat2) or np.isnan(lon1) or np.isnan(lon2):\n",
    "        return np.nan\n",
    "    p1 = lonlat(x=lon1, y=lat1)\n",
    "    p2 = lonlat(x=lon2, y=lat2)\n",
    "    return distance(p1, p2).m"
   ]
  },
  {
   "cell_type": "code",
   "execution_count": 4,
   "metadata": {},
   "outputs": [],
   "source": [
    "df.columns\n",
    "df['timestamp2'] = pd.to_datetime(df['timestamp'])\n",
    "df.set_index('timestamp2', inplace=True)\n",
    "df['timestamp'] = pd.to_datetime(df['timestamp'])\n",
    "# df['time_delta'] = df.index.to_series().diff().apply(lambda x: x.seconds)"
   ]
  },
  {
   "cell_type": "code",
   "execution_count": 5,
   "metadata": {},
   "outputs": [],
   "source": [
    "# add shifted lon/lat to DF1\n",
    "sdf = df.shift(periods=-1)\n",
    "df['next_latitude'] = sdf['latitude']\n",
    "df['next_longitude'] = sdf['longitude']\n",
    "df['next_timestamp'] = sdf['timestamp']\n",
    "df['distance'] = df.apply(lambda x: point_distance(x.latitude, x.longitude, x.next_latitude, x.next_longitude), axis=1)\n",
    "df['time'] = df.apply(lambda x: (x.next_timestamp - x.timestamp).seconds, axis=1)\n",
    "df['velocity'] = df.distance / df.time"
   ]
  },
  {
   "cell_type": "code",
   "execution_count": 6,
   "metadata": {},
   "outputs": [
    {
     "data": {
      "text/html": [
       "<div>\n",
       "<style scoped>\n",
       "    .dataframe tbody tr th:only-of-type {\n",
       "        vertical-align: middle;\n",
       "    }\n",
       "\n",
       "    .dataframe tbody tr th {\n",
       "        vertical-align: top;\n",
       "    }\n",
       "\n",
       "    .dataframe thead th {\n",
       "        text-align: right;\n",
       "    }\n",
       "</style>\n",
       "<table border=\"1\" class=\"dataframe\">\n",
       "  <thead>\n",
       "    <tr style=\"text-align: right;\">\n",
       "      <th></th>\n",
       "      <th>timestamp</th>\n",
       "      <th>latitude</th>\n",
       "      <th>longitude</th>\n",
       "      <th>elevation</th>\n",
       "      <th>heart_rate</th>\n",
       "      <th>next_latitude</th>\n",
       "      <th>next_longitude</th>\n",
       "      <th>next_timestamp</th>\n",
       "      <th>distance</th>\n",
       "      <th>time</th>\n",
       "      <th>velocity</th>\n",
       "    </tr>\n",
       "    <tr>\n",
       "      <th>timestamp2</th>\n",
       "      <th></th>\n",
       "      <th></th>\n",
       "      <th></th>\n",
       "      <th></th>\n",
       "      <th></th>\n",
       "      <th></th>\n",
       "      <th></th>\n",
       "      <th></th>\n",
       "      <th></th>\n",
       "      <th></th>\n",
       "      <th></th>\n",
       "    </tr>\n",
       "  </thead>\n",
       "  <tbody>\n",
       "    <tr>\n",
       "      <th>2020-06-20 08:00:02+00:00</th>\n",
       "      <td>2020-06-20 08:00:02+00:00</td>\n",
       "      <td>51.454496</td>\n",
       "      <td>-0.217755</td>\n",
       "      <td>35.2</td>\n",
       "      <td>104</td>\n",
       "      <td>51.454506</td>\n",
       "      <td>-0.217767</td>\n",
       "      <td>2020-06-20 08:00:03+00:00</td>\n",
       "      <td>1.390525</td>\n",
       "      <td>1.0</td>\n",
       "      <td>1.390525</td>\n",
       "    </tr>\n",
       "    <tr>\n",
       "      <th>2020-06-20 08:00:03+00:00</th>\n",
       "      <td>2020-06-20 08:00:03+00:00</td>\n",
       "      <td>51.454506</td>\n",
       "      <td>-0.217767</td>\n",
       "      <td>35.2</td>\n",
       "      <td>104</td>\n",
       "      <td>51.454520</td>\n",
       "      <td>-0.217782</td>\n",
       "      <td>2020-06-20 08:00:04+00:00</td>\n",
       "      <td>1.874358</td>\n",
       "      <td>1.0</td>\n",
       "      <td>1.874358</td>\n",
       "    </tr>\n",
       "    <tr>\n",
       "      <th>2020-06-20 08:00:04+00:00</th>\n",
       "      <td>2020-06-20 08:00:04+00:00</td>\n",
       "      <td>51.454520</td>\n",
       "      <td>-0.217782</td>\n",
       "      <td>35.3</td>\n",
       "      <td>103</td>\n",
       "      <td>51.454672</td>\n",
       "      <td>-0.217944</td>\n",
       "      <td>2020-06-20 08:00:11+00:00</td>\n",
       "      <td>20.317077</td>\n",
       "      <td>7.0</td>\n",
       "      <td>2.902440</td>\n",
       "    </tr>\n",
       "    <tr>\n",
       "      <th>2020-06-20 08:00:11+00:00</th>\n",
       "      <td>2020-06-20 08:00:11+00:00</td>\n",
       "      <td>51.454672</td>\n",
       "      <td>-0.217944</td>\n",
       "      <td>35.8</td>\n",
       "      <td>102</td>\n",
       "      <td>51.454734</td>\n",
       "      <td>-0.218025</td>\n",
       "      <td>2020-06-20 08:00:14+00:00</td>\n",
       "      <td>8.904002</td>\n",
       "      <td>3.0</td>\n",
       "      <td>2.968001</td>\n",
       "    </tr>\n",
       "    <tr>\n",
       "      <th>2020-06-20 08:00:14+00:00</th>\n",
       "      <td>2020-06-20 08:00:14+00:00</td>\n",
       "      <td>51.454734</td>\n",
       "      <td>-0.218025</td>\n",
       "      <td>36.0</td>\n",
       "      <td>108</td>\n",
       "      <td>51.454762</td>\n",
       "      <td>-0.218049</td>\n",
       "      <td>2020-06-20 08:00:15+00:00</td>\n",
       "      <td>3.533752</td>\n",
       "      <td>1.0</td>\n",
       "      <td>3.533752</td>\n",
       "    </tr>\n",
       "  </tbody>\n",
       "</table>\n",
       "</div>"
      ],
      "text/plain": [
       "                                          timestamp   latitude  longitude  \\\n",
       "timestamp2                                                                  \n",
       "2020-06-20 08:00:02+00:00 2020-06-20 08:00:02+00:00  51.454496  -0.217755   \n",
       "2020-06-20 08:00:03+00:00 2020-06-20 08:00:03+00:00  51.454506  -0.217767   \n",
       "2020-06-20 08:00:04+00:00 2020-06-20 08:00:04+00:00  51.454520  -0.217782   \n",
       "2020-06-20 08:00:11+00:00 2020-06-20 08:00:11+00:00  51.454672  -0.217944   \n",
       "2020-06-20 08:00:14+00:00 2020-06-20 08:00:14+00:00  51.454734  -0.218025   \n",
       "\n",
       "                           elevation  heart_rate  next_latitude  \\\n",
       "timestamp2                                                        \n",
       "2020-06-20 08:00:02+00:00       35.2         104      51.454506   \n",
       "2020-06-20 08:00:03+00:00       35.2         104      51.454520   \n",
       "2020-06-20 08:00:04+00:00       35.3         103      51.454672   \n",
       "2020-06-20 08:00:11+00:00       35.8         102      51.454734   \n",
       "2020-06-20 08:00:14+00:00       36.0         108      51.454762   \n",
       "\n",
       "                           next_longitude            next_timestamp  \\\n",
       "timestamp2                                                            \n",
       "2020-06-20 08:00:02+00:00       -0.217767 2020-06-20 08:00:03+00:00   \n",
       "2020-06-20 08:00:03+00:00       -0.217782 2020-06-20 08:00:04+00:00   \n",
       "2020-06-20 08:00:04+00:00       -0.217944 2020-06-20 08:00:11+00:00   \n",
       "2020-06-20 08:00:11+00:00       -0.218025 2020-06-20 08:00:14+00:00   \n",
       "2020-06-20 08:00:14+00:00       -0.218049 2020-06-20 08:00:15+00:00   \n",
       "\n",
       "                            distance  time  velocity  \n",
       "timestamp2                                            \n",
       "2020-06-20 08:00:02+00:00   1.390525   1.0  1.390525  \n",
       "2020-06-20 08:00:03+00:00   1.874358   1.0  1.874358  \n",
       "2020-06-20 08:00:04+00:00  20.317077   7.0  2.902440  \n",
       "2020-06-20 08:00:11+00:00   8.904002   3.0  2.968001  \n",
       "2020-06-20 08:00:14+00:00   3.533752   1.0  3.533752  "
      ]
     },
     "execution_count": 6,
     "metadata": {},
     "output_type": "execute_result"
    }
   ],
   "source": [
    "df.head()"
   ]
  },
  {
   "cell_type": "code",
   "execution_count": 7,
   "metadata": {},
   "outputs": [
    {
     "data": {
      "text/plain": [
       "<matplotlib.axes._subplots.AxesSubplot at 0x1730d5c8>"
      ]
     },
     "execution_count": 7,
     "metadata": {},
     "output_type": "execute_result"
    },
    {
     "data": {
      "image/png": "[encoded data removed]",
      "text/plain": [
       "<Figure size 432x288 with 1 Axes>"
      ]
     },
     "metadata": {
      "needs_background": "light"
     },
     "output_type": "display_data"
    }
   ],
   "source": [
    "df['heart_rate'].plot()\n",
    "df['elevation'].diff(2).plot()\n",
    "df['velocity'].plot()"
   ]
  },
  {
   "cell_type": "code",
   "execution_count": 11,
   "metadata": {},
   "outputs": [
    {
     "data": {
      "text/plain": [
       "<matplotlib.axes._subplots.AxesSubplot at 0x195571a8>"
      ]
     },
     "execution_count": 11,
     "metadata": {},
     "output_type": "execute_result"
    },
    {
     "data": {
      "image/png": "[encoded data removed]",
      "text/plain": [
       "<Figure size 432x288 with 1 Axes>"
      ]
     },
     "metadata": {
      "needs_background": "light"
     },
     "output_type": "display_data"
    }
   ],
   "source": [
    "df['velocity'].hist(bins=20)"
   ]
  },
  {
   "cell_type": "code",
   "execution_count": 8,
   "metadata": {},
   "outputs": [
    {
     "data": {
      "text/plain": [
       "<matplotlib.legend.Legend at 0x1626bd90>"
      ]
     },
     "execution_count": 8,
     "metadata": {},
     "output_type": "execute_result"
    },
    {
     "data": {
      "image/png": "[encoded data removed]",
      "text/plain": [
       "<Figure size 432x288 with 1 Axes>"
      ]
     },
     "metadata": {
      "needs_background": "light"
     },
     "output_type": "display_data"
    }
   ],
   "source": [
    "plt.clf()\n",
    "start = 5\n",
    "steps = 5\n",
    "delta = 5\n",
    "for i in range(start, start*steps, delta):\n",
    "    subdf = (df['heart_rate'] / df['elevation'].diff(i)).replace([np.inf, -np.inf], np.nan).dropna() # .hist(alpha=0.5)\n",
    "    # print(subdf.describe())\n",
    "    plt.hist(subdf, bins=50, alpha=0.5, label=f\"diff points: {i}\")\n",
    "plt.legend()"
   ]
  },
  {
   "cell_type": "code",
   "execution_count": 9,
   "metadata": {},
   "outputs": [
    {
     "ename": "KeyError",
     "evalue": "'time_delta'",
     "output_type": "error",
     "traceback": [
      "\u001b[1;31m---------------------------------------------------------------------------\u001b[0m",
      "\u001b[1;31mKeyError\u001b[0m                                  Traceback (most recent call last)",
      "\u001b[1;32mc:\\users\\ashir\\documents\\envs\\stravaenv\\lib\\site-packages\\pandas\\core\\indexes\\base.py\u001b[0m in \u001b[0;36mget_loc\u001b[1;34m(self, key, method, tolerance)\u001b[0m\n\u001b[0;32m   2645\u001b[0m             \u001b[1;32mtry\u001b[0m\u001b[1;33m:\u001b[0m\u001b[1;33m\u001b[0m\u001b[1;33m\u001b[0m\u001b[0m\n\u001b[1;32m-> 2646\u001b[1;33m                 \u001b[1;32mreturn\u001b[0m \u001b[0mself\u001b[0m\u001b[1;33m.\u001b[0m\u001b[0m_engine\u001b[0m\u001b[1;33m.\u001b[0m\u001b[0mget_loc\u001b[0m\u001b[1;33m(\u001b[0m\u001b[0mkey\u001b[0m\u001b[1;33m)\u001b[0m\u001b[1;33m\u001b[0m\u001b[1;33m\u001b[0m\u001b[0m\n\u001b[0m\u001b[0;32m   2647\u001b[0m             \u001b[1;32mexcept\u001b[0m \u001b[0mKeyError\u001b[0m\u001b[1;33m:\u001b[0m\u001b[1;33m\u001b[0m\u001b[1;33m\u001b[0m\u001b[0m\n",
      "\u001b[1;32mpandas\\_libs\\index.pyx\u001b[0m in \u001b[0;36mpandas._libs.index.IndexEngine.get_loc\u001b[1;34m()\u001b[0m\n",
      "\u001b[1;32mpandas\\_libs\\index.pyx\u001b[0m in \u001b[0;36mpandas._libs.index.IndexEngine.get_loc\u001b[1;34m()\u001b[0m\n",
      "\u001b[1;32mpandas\\_libs\\hashtable_class_helper.pxi\u001b[0m in \u001b[0;36mpandas._libs.hashtable.PyObjectHashTable.get_item\u001b[1;34m()\u001b[0m\n",
      "\u001b[1;32mpandas\\_libs\\hashtable_class_helper.pxi\u001b[0m in \u001b[0;36mpandas._libs.hashtable.PyObjectHashTable.get_item\u001b[1;34m()\u001b[0m\n",
      "\u001b[1;31mKeyError\u001b[0m: 'time_delta'",
      "\nDuring handling of the above exception, another exception occurred:\n",
      "\u001b[1;31mKeyError\u001b[0m                                  Traceback (most recent call last)",
      "\u001b[1;32m<ipython-input-9-ee984ca3f752>\u001b[0m in \u001b[0;36m<module>\u001b[1;34m\u001b[0m\n\u001b[1;32m----> 1\u001b[1;33m \u001b[0mdf\u001b[0m\u001b[1;33m[\u001b[0m\u001b[1;34m'time_delta'\u001b[0m\u001b[1;33m]\u001b[0m\u001b[1;33m.\u001b[0m\u001b[0mhist\u001b[0m\u001b[1;33m(\u001b[0m\u001b[0mbins\u001b[0m\u001b[1;33m=\u001b[0m\u001b[1;36m20\u001b[0m\u001b[1;33m)\u001b[0m\u001b[1;33m\u001b[0m\u001b[1;33m\u001b[0m\u001b[0m\n\u001b[0m",
      "\u001b[1;32mc:\\users\\ashir\\documents\\envs\\stravaenv\\lib\\site-packages\\pandas\\core\\frame.py\u001b[0m in \u001b[0;36m__getitem__\u001b[1;34m(self, key)\u001b[0m\n\u001b[0;32m   2798\u001b[0m             \u001b[1;32mif\u001b[0m \u001b[0mself\u001b[0m\u001b[1;33m.\u001b[0m\u001b[0mcolumns\u001b[0m\u001b[1;33m.\u001b[0m\u001b[0mnlevels\u001b[0m \u001b[1;33m>\u001b[0m \u001b[1;36m1\u001b[0m\u001b[1;33m:\u001b[0m\u001b[1;33m\u001b[0m\u001b[1;33m\u001b[0m\u001b[0m\n\u001b[0;32m   2799\u001b[0m                 \u001b[1;32mreturn\u001b[0m \u001b[0mself\u001b[0m\u001b[1;33m.\u001b[0m\u001b[0m_getitem_multilevel\u001b[0m\u001b[1;33m(\u001b[0m\u001b[0mkey\u001b[0m\u001b[1;33m)\u001b[0m\u001b[1;33m\u001b[0m\u001b[1;33m\u001b[0m\u001b[0m\n\u001b[1;32m-> 2800\u001b[1;33m             \u001b[0mindexer\u001b[0m \u001b[1;33m=\u001b[0m \u001b[0mself\u001b[0m\u001b[1;33m.\u001b[0m\u001b[0mcolumns\u001b[0m\u001b[1;33m.\u001b[0m\u001b[0mget_loc\u001b[0m\u001b[1;33m(\u001b[0m\u001b[0mkey\u001b[0m\u001b[1;33m)\u001b[0m\u001b[1;33m\u001b[0m\u001b[1;33m\u001b[0m\u001b[0m\n\u001b[0m\u001b[0;32m   2801\u001b[0m             \u001b[1;32mif\u001b[0m \u001b[0mis_integer\u001b[0m\u001b[1;33m(\u001b[0m\u001b[0mindexer\u001b[0m\u001b[1;33m)\u001b[0m\u001b[1;33m:\u001b[0m\u001b[1;33m\u001b[0m\u001b[1;33m\u001b[0m\u001b[0m\n\u001b[0;32m   2802\u001b[0m                 \u001b[0mindexer\u001b[0m \u001b[1;33m=\u001b[0m \u001b[1;33m[\u001b[0m\u001b[0mindexer\u001b[0m\u001b[1;33m]\u001b[0m\u001b[1;33m\u001b[0m\u001b[1;33m\u001b[0m\u001b[0m\n",
      "\u001b[1;32mc:\\users\\ashir\\documents\\envs\\stravaenv\\lib\\site-packages\\pandas\\core\\indexes\\base.py\u001b[0m in \u001b[0;36mget_loc\u001b[1;34m(self, key, method, tolerance)\u001b[0m\n\u001b[0;32m   2646\u001b[0m                 \u001b[1;32mreturn\u001b[0m \u001b[0mself\u001b[0m\u001b[1;33m.\u001b[0m\u001b[0m_engine\u001b[0m\u001b[1;33m.\u001b[0m\u001b[0mget_loc\u001b[0m\u001b[1;33m(\u001b[0m\u001b[0mkey\u001b[0m\u001b[1;33m)\u001b[0m\u001b[1;33m\u001b[0m\u001b[1;33m\u001b[0m\u001b[0m\n\u001b[0;32m   2647\u001b[0m             \u001b[1;32mexcept\u001b[0m \u001b[0mKeyError\u001b[0m\u001b[1;33m:\u001b[0m\u001b[1;33m\u001b[0m\u001b[1;33m\u001b[0m\u001b[0m\n\u001b[1;32m-> 2648\u001b[1;33m                 \u001b[1;32mreturn\u001b[0m \u001b[0mself\u001b[0m\u001b[1;33m.\u001b[0m\u001b[0m_engine\u001b[0m\u001b[1;33m.\u001b[0m\u001b[0mget_loc\u001b[0m\u001b[1;33m(\u001b[0m\u001b[0mself\u001b[0m\u001b[1;33m.\u001b[0m\u001b[0m_maybe_cast_indexer\u001b[0m\u001b[1;33m(\u001b[0m\u001b[0mkey\u001b[0m\u001b[1;33m)\u001b[0m\u001b[1;33m)\u001b[0m\u001b[1;33m\u001b[0m\u001b[1;33m\u001b[0m\u001b[0m\n\u001b[0m\u001b[0;32m   2649\u001b[0m         \u001b[0mindexer\u001b[0m \u001b[1;33m=\u001b[0m \u001b[0mself\u001b[0m\u001b[1;33m.\u001b[0m\u001b[0mget_indexer\u001b[0m\u001b[1;33m(\u001b[0m\u001b[1;33m[\u001b[0m\u001b[0mkey\u001b[0m\u001b[1;33m]\u001b[0m\u001b[1;33m,\u001b[0m \u001b[0mmethod\u001b[0m\u001b[1;33m=\u001b[0m\u001b[0mmethod\u001b[0m\u001b[1;33m,\u001b[0m \u001b[0mtolerance\u001b[0m\u001b[1;33m=\u001b[0m\u001b[0mtolerance\u001b[0m\u001b[1;33m)\u001b[0m\u001b[1;33m\u001b[0m\u001b[1;33m\u001b[0m\u001b[0m\n\u001b[0;32m   2650\u001b[0m         \u001b[1;32mif\u001b[0m \u001b[0mindexer\u001b[0m\u001b[1;33m.\u001b[0m\u001b[0mndim\u001b[0m \u001b[1;33m>\u001b[0m \u001b[1;36m1\u001b[0m \u001b[1;32mor\u001b[0m \u001b[0mindexer\u001b[0m\u001b[1;33m.\u001b[0m\u001b[0msize\u001b[0m \u001b[1;33m>\u001b[0m \u001b[1;36m1\u001b[0m\u001b[1;33m:\u001b[0m\u001b[1;33m\u001b[0m\u001b[1;33m\u001b[0m\u001b[0m\n",
      "\u001b[1;32mpandas\\_libs\\index.pyx\u001b[0m in \u001b[0;36mpandas._libs.index.IndexEngine.get_loc\u001b[1;34m()\u001b[0m\n",
      "\u001b[1;32mpandas\\_libs\\index.pyx\u001b[0m in \u001b[0;36mpandas._libs.index.IndexEngine.get_loc\u001b[1;34m()\u001b[0m\n",
      "\u001b[1;32mpandas\\_libs\\hashtable_class_helper.pxi\u001b[0m in \u001b[0;36mpandas._libs.hashtable.PyObjectHashTable.get_item\u001b[1;34m()\u001b[0m\n",
      "\u001b[1;32mpandas\\_libs\\hashtable_class_helper.pxi\u001b[0m in \u001b[0;36mpandas._libs.hashtable.PyObjectHashTable.get_item\u001b[1;34m()\u001b[0m\n",
      "\u001b[1;31mKeyError\u001b[0m: 'time_delta'"
     ]
    }
   ],
   "source": [
    "df['time_delta'].hist(bins=20)"
   ]
  }
 ],
 "metadata": {
  "kernelspec": {
   "display_name": "Python 3",
   "language": "python",
   "name": "python3"
  },
  "language_info": {
   "codemirror_mode": {
    "name": "ipython",
    "version": 3
   },
   "file_extension": ".py",
   "mimetype": "text/x-python",
   "name": "python",
   "nbconvert_exporter": "python",
   "pygments_lexer": "ipython3",
   "version": "3.8.2"
  }
 },
 "nbformat": 4,
 "nbformat_minor": 4
}
