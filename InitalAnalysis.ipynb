{
 "cells": [
  {
   "cell_type": "code",
   "execution_count": 12,
   "metadata": {},
   "outputs": [],
   "source": [
    "import pandas as pd\n",
    "from matplotlib import pyplot as plt\n",
    "import numpy as np\n",
    "from geopy.distance import geodesic "
   ]
  },
  {
   "cell_type": "code",
   "execution_count": 4,
   "metadata": {},
   "outputs": [],
   "source": [
    "df = pd.read_csv(\"~/Documents/data/strava/output2.csv\")"
   ]
  },
  {
   "cell_type": "code",
   "execution_count": null,
   "metadata": {},
   "outputs": [],
   "source": [
    "def point_distance(x):\n",
    "    return geodesic(kolkata, delhi).km"
   ]
  },
  {
   "cell_type": "code",
   "execution_count": 10,
   "metadata": {},
   "outputs": [
    {
     "data": {
      "text/html": [
       "<div>\n",
       "<style scoped>\n",
       "    .dataframe tbody tr th:only-of-type {\n",
       "        vertical-align: middle;\n",
       "    }\n",
       "\n",
       "    .dataframe tbody tr th {\n",
       "        vertical-align: top;\n",
       "    }\n",
       "\n",
       "    .dataframe thead th {\n",
       "        text-align: right;\n",
       "    }\n",
       "</style>\n",
       "<table border=\"1\" class=\"dataframe\">\n",
       "  <thead>\n",
       "    <tr style=\"text-align: right;\">\n",
       "      <th></th>\n",
       "      <th>timestamp</th>\n",
       "      <th>latitude</th>\n",
       "      <th>longitude</th>\n",
       "      <th>elevation</th>\n",
       "      <th>heart_rate</th>\n",
       "      <th>time_delta</th>\n",
       "    </tr>\n",
       "    <tr>\n",
       "      <th>timestamp2</th>\n",
       "      <th></th>\n",
       "      <th></th>\n",
       "      <th></th>\n",
       "      <th></th>\n",
       "      <th></th>\n",
       "      <th></th>\n",
       "    </tr>\n",
       "  </thead>\n",
       "  <tbody>\n",
       "    <tr>\n",
       "      <th>2020-06-20 12:34:21+00:00</th>\n",
       "      <td>2020-06-20T12:34:21Z</td>\n",
       "      <td>51.454672</td>\n",
       "      <td>-0.217561</td>\n",
       "      <td>35.3</td>\n",
       "      <td>116</td>\n",
       "      <td>NaN</td>\n",
       "    </tr>\n",
       "    <tr>\n",
       "      <th>2020-06-20 12:34:22+00:00</th>\n",
       "      <td>2020-06-20T12:34:22Z</td>\n",
       "      <td>51.454661</td>\n",
       "      <td>-0.217564</td>\n",
       "      <td>35.4</td>\n",
       "      <td>116</td>\n",
       "      <td>1.0</td>\n",
       "    </tr>\n",
       "    <tr>\n",
       "      <th>2020-06-20 12:34:23+00:00</th>\n",
       "      <td>2020-06-20T12:34:23Z</td>\n",
       "      <td>51.454647</td>\n",
       "      <td>-0.217579</td>\n",
       "      <td>35.4</td>\n",
       "      <td>116</td>\n",
       "      <td>1.0</td>\n",
       "    </tr>\n",
       "    <tr>\n",
       "      <th>2020-06-20 12:34:24+00:00</th>\n",
       "      <td>2020-06-20T12:34:24Z</td>\n",
       "      <td>51.454644</td>\n",
       "      <td>-0.217590</td>\n",
       "      <td>35.4</td>\n",
       "      <td>116</td>\n",
       "      <td>1.0</td>\n",
       "    </tr>\n",
       "    <tr>\n",
       "      <th>2020-06-20 12:34:25+00:00</th>\n",
       "      <td>2020-06-20T12:34:25Z</td>\n",
       "      <td>51.454605</td>\n",
       "      <td>-0.217623</td>\n",
       "      <td>35.5</td>\n",
       "      <td>115</td>\n",
       "      <td>1.0</td>\n",
       "    </tr>\n",
       "  </tbody>\n",
       "</table>\n",
       "</div>"
      ],
      "text/plain": [
       "                                      timestamp   latitude  longitude  \\\n",
       "timestamp2                                                              \n",
       "2020-06-20 12:34:21+00:00  2020-06-20T12:34:21Z  51.454672  -0.217561   \n",
       "2020-06-20 12:34:22+00:00  2020-06-20T12:34:22Z  51.454661  -0.217564   \n",
       "2020-06-20 12:34:23+00:00  2020-06-20T12:34:23Z  51.454647  -0.217579   \n",
       "2020-06-20 12:34:24+00:00  2020-06-20T12:34:24Z  51.454644  -0.217590   \n",
       "2020-06-20 12:34:25+00:00  2020-06-20T12:34:25Z  51.454605  -0.217623   \n",
       "\n",
       "                           elevation  heart_rate  time_delta  \n",
       "timestamp2                                                    \n",
       "2020-06-20 12:34:21+00:00       35.3         116         NaN  \n",
       "2020-06-20 12:34:22+00:00       35.4         116         1.0  \n",
       "2020-06-20 12:34:23+00:00       35.4         116         1.0  \n",
       "2020-06-20 12:34:24+00:00       35.4         116         1.0  \n",
       "2020-06-20 12:34:25+00:00       35.5         115         1.0  "
      ]
     },
     "execution_count": 10,
     "metadata": {},
     "output_type": "execute_result"
    }
   ],
   "source": [
    "df.columns\n",
    "df['timestamp2'] = pd.to_datetime(df['timestamp'])\n",
    "df.set_index('timestamp2', inplace=True)\n",
    "df['time_delta'] = df.index.to_series().diff().apply(lambda x: x.seconds)\n",
    "df['distance_delta'] = \n",
    "df.head()"
   ]
  },
  {
   "cell_type": "code",
   "execution_count": 11,
   "metadata": {},
   "outputs": [
    {
     "data": {
      "text/plain": [
       "<matplotlib.axes._subplots.AxesSubplot at 0x1233f40>"
      ]
     },
     "execution_count": 11,
     "metadata": {},
     "output_type": "execute_result"
    },
    {
     "data": {
      "image/png": "[encoded data removed]",
      "text/plain": [
       "<Figure size 432x288 with 1 Axes>"
      ]
     },
     "metadata": {
      "needs_background": "light"
     },
     "output_type": "display_data"
    }
   ],
   "source": [
    "df['heart_rate'].plot()\n",
    "df['elevation'].diff(2).plot()"
   ]
  },
  {
   "cell_type": "code",
   "execution_count": 7,
   "metadata": {},
   "outputs": [
    {
     "data": {
      "text/plain": [
       "<matplotlib.legend.Legend at 0x15881670>"
      ]
     },
     "execution_count": 7,
     "metadata": {},
     "output_type": "execute_result"
    },
    {
     "data": {
      "image/png": "[encoded data removed]",
      "text/plain": [
       "<Figure size 432x288 with 1 Axes>"
      ]
     },
     "metadata": {
      "needs_background": "light"
     },
     "output_type": "display_data"
    }
   ],
   "source": [
    "plt.clf()\n",
    "start = 5\n",
    "steps = 5\n",
    "delta = 5\n",
    "for i in range(start, start*steps, delta):\n",
    "    subdf = (df['heart_rate'] / df['elevation'].diff(i)).replace([np.inf, -np.inf], np.nan).dropna() # .hist(alpha=0.5)\n",
    "    # print(subdf.describe())\n",
    "    plt.hist(subdf, bins=50, alpha=0.5, label=f\"diff points: {i}\")\n",
    "plt.legend()"
   ]
  },
  {
   "cell_type": "code",
   "execution_count": 8,
   "metadata": {},
   "outputs": [
    {
     "data": {
      "text/plain": [
       "<matplotlib.axes._subplots.AxesSubplot at 0x15a21628>"
      ]
     },
     "execution_count": 8,
     "metadata": {},
     "output_type": "execute_result"
    },
    {
     "data": {
      "image/png": "[encoded data removed]",
      "text/plain": [
       "<Figure size 432x288 with 1 Axes>"
      ]
     },
     "metadata": {
      "needs_background": "light"
     },
     "output_type": "display_data"
    }
   ],
   "source": [
    "df['time_delta'].hist(bins=20)"
   ]
  }
 ],
 "metadata": {
  "kernelspec": {
   "display_name": "Python 3",
   "language": "python",
   "name": "python3"
  },
  "language_info": {
   "codemirror_mode": {
    "name": "ipython",
    "version": 3
   },
   "file_extension": ".py",
   "mimetype": "text/x-python",
   "name": "python",
   "nbconvert_exporter": "python",
   "pygments_lexer": "ipython3",
   "version": "3.8.2"
  }
 },
 "nbformat": 4,
 "nbformat_minor": 4
}
